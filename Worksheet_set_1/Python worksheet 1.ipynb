{
 "cells": [
  {
   "cell_type": "markdown",
   "id": "2e41741e",
   "metadata": {},
   "source": [
    "# 11.\tWrite a python program to find the factorial of a number."
   ]
  },
  {
   "cell_type": "code",
   "execution_count": 3,
   "id": "7fc5d283",
   "metadata": {},
   "outputs": [
    {
     "name": "stdout",
     "output_type": "stream",
     "text": [
      "Enter a number: 5\n",
      "120\n"
     ]
    }
   ],
   "source": [
    "number = int(input(\"Enter a number: \"))\n",
    "factorial = 1\n",
    "if number < 0:\n",
    "    print(\"Does not exist\")\n",
    "elif number == 0:\n",
    "    print(1)\n",
    "else:\n",
    "    for i in range(1,number + 1):\n",
    "        factorial = factorial*i\n",
    "    print(factorial)"
   ]
  },
  {
   "cell_type": "markdown",
   "id": "5b78cfc9",
   "metadata": {},
   "source": [
    "# 12.\tWrite a python program to find whether a number is prime or composite."
   ]
  },
  {
   "cell_type": "code",
   "execution_count": 9,
   "id": "dec99891",
   "metadata": {},
   "outputs": [
    {
     "name": "stdout",
     "output_type": "stream",
     "text": [
      "Enter a number: 26\n",
      "26 is a composite number\n"
     ]
    }
   ],
   "source": [
    "num1 = int(input(\"Enter a number: \"))\n",
    "\n",
    "if num1 > 1:\n",
    "    for i in range(2, num1):\n",
    "        if (num1 % i) == 0:\n",
    "            print(num1, \"is a composite number\")\n",
    "            break\n",
    "    else:\n",
    "        print(num1, \"is a prime number\")\n",
    "else:\n",
    "    print(num1, \"is a composite number\")"
   ]
  },
  {
   "cell_type": "markdown",
   "id": "f8cf045b",
   "metadata": {},
   "source": [
    "# 13.\tWrite a python program to check whether a given string is palindrome or not."
   ]
  },
  {
   "cell_type": "code",
   "execution_count": 11,
   "id": "868d4502",
   "metadata": {},
   "outputs": [
    {
     "name": "stdout",
     "output_type": "stream",
     "text": [
      "Enter a string: civic\n",
      "The string is a palindrome\n"
     ]
    }
   ],
   "source": [
    "string = input(\"Enter a string: \")\n",
    "reverse = string[::-1]\n",
    "\n",
    "if string == reverse:\n",
    "    print(\"The string is a palindrome\")\n",
    "else:\n",
    "    print(\"The string is not a palindrome\")"
   ]
  },
  {
   "cell_type": "markdown",
   "id": "b0c610de",
   "metadata": {},
   "source": [
    "# 14.\tWrite a Python program to get the third side of right-angled triangle from two given sides."
   ]
  },
  {
   "cell_type": "code",
   "execution_count": 7,
   "id": "de00e99e",
   "metadata": {},
   "outputs": [
    {
     "name": "stdout",
     "output_type": "stream",
     "text": [
      "Enter the length of side 1: 1.2\n",
      "Enter the length of side 2: 0.9\n",
      "The length of the hypotenuse is: 1.5\n"
     ]
    }
   ],
   "source": [
    "import math\n",
    "\n",
    "side1 = float(input(\"Enter the length of side 1: \"))\n",
    "side2 = float(input(\"Enter the length of side 2: \"))\n",
    "\n",
    "hypotenuse = math.sqrt(side1**2 + side2**2)\n",
    "\n",
    "print(\"The length of the hypotenuse is:\", hypotenuse)"
   ]
  },
  {
   "cell_type": "markdown",
   "id": "0e7dbe46",
   "metadata": {},
   "source": [
    "# 15.\tWrite a python program to print the frequency of each of the characters present in a given string."
   ]
  },
  {
   "cell_type": "code",
   "execution_count": 10,
   "id": "64168c23",
   "metadata": {},
   "outputs": [
    {
     "name": "stdout",
     "output_type": "stream",
     "text": [
      "Enter a string: rashtrya\n",
      "r : 2\n",
      "a : 2\n",
      "s : 1\n",
      "h : 1\n",
      "t : 1\n",
      "y : 1\n"
     ]
    }
   ],
   "source": [
    "string = input(\"Enter a string: \")\n",
    "frequency = {}\n",
    "\n",
    "for char in string:\n",
    "    if char in frequency:\n",
    "        frequency[char] += 1\n",
    "    else:\n",
    "        frequency[char] = 1\n",
    "\n",
    "for char, count in frequency.items():\n",
    "    print(char, \":\", count)"
   ]
  },
  {
   "cell_type": "code",
   "execution_count": null,
   "id": "a06db67c",
   "metadata": {},
   "outputs": [],
   "source": []
  }
 ],
 "metadata": {
  "kernelspec": {
   "display_name": "Python 3 (ipykernel)",
   "language": "python",
   "name": "python3"
  },
  "language_info": {
   "codemirror_mode": {
    "name": "ipython",
    "version": 3
   },
   "file_extension": ".py",
   "mimetype": "text/x-python",
   "name": "python",
   "nbconvert_exporter": "python",
   "pygments_lexer": "ipython3",
   "version": "3.9.12"
  }
 },
 "nbformat": 4,
 "nbformat_minor": 5
}
